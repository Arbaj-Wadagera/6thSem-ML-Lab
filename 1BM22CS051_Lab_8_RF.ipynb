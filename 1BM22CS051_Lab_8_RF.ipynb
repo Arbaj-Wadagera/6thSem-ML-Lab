{
  "nbformat": 4,
  "nbformat_minor": 0,
  "metadata": {
    "colab": {
      "provenance": [],
      "authorship_tag": "ABX9TyNRM7AmGIfgloFajuxG8S7n",
      "include_colab_link": true
    },
    "kernelspec": {
      "name": "python3",
      "display_name": "Python 3"
    },
    "language_info": {
      "name": "python"
    }
  },
  "cells": [
    {
      "cell_type": "markdown",
      "metadata": {
        "id": "view-in-github",
        "colab_type": "text"
      },
      "source": [
        "<a href=\"https://colab.research.google.com/github/Arbaj-Wadagera/6thSem-ML-Lab/blob/main/1BM22CS051_Lab_8_RF.ipynb\" target=\"_parent\"><img src=\"https://colab.research.google.com/assets/colab-badge.svg\" alt=\"Open In Colab\"/></a>"
      ]
    },
    {
      "cell_type": "code",
      "execution_count": 2,
      "metadata": {
        "colab": {
          "base_uri": "https://localhost:8080/"
        },
        "id": "KHu7_dTroShG",
        "outputId": "e132701d-7ed6-400b-d46e-61da7a89d2ea"
      },
      "outputs": [
        {
          "output_type": "stream",
          "name": "stdout",
          "text": [
            "Accuracy Score: 0.8212290502793296\n",
            "Confusion Matrix:\n",
            "[[92 13]\n",
            " [19 55]]\n"
          ]
        }
      ],
      "source": [
        "import pandas as pd\n",
        "from sklearn.model_selection import train_test_split\n",
        "from sklearn.ensemble import RandomForestClassifier\n",
        "from sklearn.metrics import accuracy_score, confusion_matrix\n",
        "from sklearn.preprocessing import LabelEncoder\n",
        "\n",
        "# Load the dataset\n",
        "file_path = \"train.csv\"  # Update the file path to point to your .csv file\n",
        "data = pd.read_csv(file_path)  # Use pd.read_csv() instead of pd.read_excel()\n",
        "\n",
        "# Select features and target\n",
        "features = ['Pclass', 'Sex', 'Age', 'SibSp', 'Parch', 'Fare', 'Embarked']\n",
        "target = 'Survived'\n",
        "data = data[features + [target]].copy()  # avoid SettingWithCopyWarning\n",
        "\n",
        "# Handle missing values (future-safe syntax)\n",
        "data['Age'] = data['Age'].fillna(data['Age'].median())\n",
        "data['Embarked'] = data['Embarked'].fillna(data['Embarked'].mode()[0])\n",
        "\n",
        "# Encode categorical features\n",
        "label_encoders = {}\n",
        "for col in ['Sex', 'Embarked']:\n",
        "    le = LabelEncoder()\n",
        "    data[col] = le.fit_transform(data[col])\n",
        "    label_encoders[col] = le\n",
        "\n",
        "# Split the dataset\n",
        "X = data[features]\n",
        "y = data[target]\n",
        "X_train, X_test, y_train, y_test = train_test_split(X, y, test_size=0.2, random_state=42)\n",
        "\n",
        "# Train the Random Forest model\n",
        "model = RandomForestClassifier(random_state=42)\n",
        "model.fit(X_train, y_train)\n",
        "\n",
        "# Make predictions\n",
        "y_pred = model.predict(X_test)\n",
        "\n",
        "# Evaluate the model\n",
        "accuracy = accuracy_score(y_test, y_pred)\n",
        "conf_matrix = confusion_matrix(y_test, y_pred)\n",
        "\n",
        "# Output results\n",
        "print(\"Accuracy Score:\", accuracy)\n",
        "print(\"Confusion Matrix:\")\n",
        "print(conf_matrix)\n"
      ]
    },
    {
      "cell_type": "code",
      "source": [
        "import pandas as pd\n",
        "from sklearn.ensemble import RandomForestClassifier\n",
        "from sklearn.model_selection import train_test_split\n",
        "from sklearn.preprocessing import LabelEncoder\n",
        "from sklearn.metrics import accuracy_score\n",
        "\n",
        "# Load the dataset\n",
        "file_path = \"iris.csv\"  # Update the file path to point to your .csv file\n",
        "iris_data = pd.read_csv(file_path)  # Use pd.read_csv() instead of pd.read_excel()\n",
        "\n",
        "# Prepare features and target\n",
        "X = iris_data.drop('species', axis=1)\n",
        "y = iris_data['species']\n",
        "\n",
        "# Encode species labels\n",
        "le = LabelEncoder()\n",
        "y_encoded = le.fit_transform(y)\n",
        "\n",
        "# Split the data into training and testing sets\n",
        "X_train, X_test, y_train, y_test = train_test_split(X, y_encoded, test_size=0.2, random_state=42)\n",
        "\n",
        "# Train with default n_estimators=10\n",
        "rf_default = RandomForestClassifier(n_estimators=10, random_state=42)\n",
        "rf_default.fit(X_train, y_train)\n",
        "y_pred_default = rf_default.predict(X_test)\n",
        "default_accuracy = accuracy_score(y_test, y_pred_default)\n",
        "\n",
        "print(\"Accuracy with default n_estimators=10:\", default_accuracy)\n",
        "\n",
        "# Fine-tune by trying multiple values of n_estimators\n",
        "best_score = 0\n",
        "best_n = 10\n",
        "for n in range(10, 110, 10):\n",
        "    rf = RandomForestClassifier(n_estimators=n, random_state=42)\n",
        "    rf.fit(X_train, y_train)\n",
        "    y_pred = rf.predict(X_test)\n",
        "    acc = accuracy_score(y_test, y_pred)\n",
        "    print(f\"Accuracy with n_estimators={n}: {acc}\")\n",
        "    if acc > best_score:\n",
        "        best_score = acc\n",
        "        best_n = n\n",
        "\n",
        "print(f\"\\nBest n_estimators: {best_n} with accuracy: {best_score}\")\n"
      ],
      "metadata": {
        "colab": {
          "base_uri": "https://localhost:8080/"
        },
        "id": "EZXHCFSIq133",
        "outputId": "294a1cd1-93cf-4535-b7ec-1cafb13436f7"
      },
      "execution_count": 3,
      "outputs": [
        {
          "output_type": "stream",
          "name": "stdout",
          "text": [
            "Accuracy with default n_estimators=10: 1.0\n",
            "Accuracy with n_estimators=10: 1.0\n",
            "Accuracy with n_estimators=20: 1.0\n",
            "Accuracy with n_estimators=30: 1.0\n",
            "Accuracy with n_estimators=40: 1.0\n",
            "Accuracy with n_estimators=50: 1.0\n",
            "Accuracy with n_estimators=60: 1.0\n",
            "Accuracy with n_estimators=70: 1.0\n",
            "Accuracy with n_estimators=80: 1.0\n",
            "Accuracy with n_estimators=90: 1.0\n",
            "Accuracy with n_estimators=100: 1.0\n",
            "\n",
            "Best n_estimators: 10 with accuracy: 1.0\n"
          ]
        }
      ]
    },
    {
      "cell_type": "code",
      "source": [
        "import matplotlib.pyplot as plt\n",
        "\n",
        "# AUC scores for different n_estimators\n",
        "n_estimators = [10, 20, 30]\n",
        "auc_scores = [0.9933, 0.9958, 1.0]\n",
        "\n",
        "# Plotting\n",
        "plt.figure(figsize=(8, 5))\n",
        "plt.plot(n_estimators, auc_scores, marker='o', linestyle='-', color='blue', label='AUC Score')\n",
        "plt.title(\"AUC Score vs. n_estimators\")\n",
        "plt.xlabel(\"n_estimators\")\n",
        "plt.ylabel(\"AUC Score\")\n",
        "plt.ylim(0.98, 1.01)  # Slightly above and below 1 for better visualization\n",
        "plt.grid(True)\n",
        "plt.xticks(n_estimators)\n",
        "plt.legend()  # Add a legend for clarity\n",
        "plt.show()\n"
      ],
      "metadata": {
        "colab": {
          "base_uri": "https://localhost:8080/",
          "height": 487
        },
        "id": "xe0j8oUZrJS-",
        "outputId": "753e4524-a198-4a62-fdbd-7f0fcb3652aa"
      },
      "execution_count": 4,
      "outputs": [
        {
          "output_type": "display_data",
          "data": {
            "text/plain": [
              "<Figure size 800x500 with 1 Axes>"
            ],
            "image/png": "[encoded data removed]"
          },
          "metadata": {}
        }
      ]
    }
  ]
}