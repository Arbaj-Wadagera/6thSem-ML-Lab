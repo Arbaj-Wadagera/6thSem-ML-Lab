{
  "nbformat": 4,
  "nbformat_minor": 0,
  "metadata": {
    "colab": {
      "provenance": [],
      "authorship_tag": "ABX9TyOzJHyD53EruBTeVK8jW1fA",
      "include_colab_link": true
    },
    "kernelspec": {
      "name": "python3",
      "display_name": "Python 3"
    },
    "language_info": {
      "name": "python"
    }
  },
  "cells": [
    {
      "cell_type": "markdown",
      "metadata": {
        "id": "view-in-github",
        "colab_type": "text"
      },
      "source": [
        "<a href=\"https://colab.research.google.com/github/Arbaj-Wadagera/6thSem-ML-Lab/blob/main/1BM22CS051_Arbaj_Wadagera_ML_lab_EXAM.ipynb\" target=\"_parent\"><img src=\"https://colab.research.google.com/assets/colab-badge.svg\" alt=\"Open In Colab\"/></a>"
      ]
    },
    {
      "cell_type": "code",
      "source": [
        "\n",
        "data = \"\"\"Age_Group|Employment_Type|Income_Level|Credit_History|Loan_Amount|Loan_Approved\n",
        "25-35|Salaried|Low|Good|50000|Yes\n",
        "36-45|Self-Employed|Medium|Fair|100000|No\n",
        "46-55|Salaried|High|Good|200000|Yes\n",
        "25-35|Salaried|Medium||150000|No\n",
        "36-45|Self-Employed|Medium|Good|120000|Yes\n",
        "46-55|Salaried|Low|Poor|70000|No\n",
        "25-35||Low|Good|80000|Yes\n",
        "36-45|Salaried|High|Good|250000|Yes\n",
        "46-55||Medium|Fair|180000|No\n",
        "25-35|Salaried|Low|Good|90000|Yes\"\"\"\n",
        "\n",
        "df = pd.read_csv(io.StringIO(data), sep='|')\n",
        "\n",
        "target_column = 'Loan_Approved'\n",
        "X = df.drop(target_column, axis=1)\n",
        "y = df[target_column]\n",
        "\n",
        "categorical_features = ['Age_Group', 'Employment_Type', 'Income_Level', 'Credit_History']\n",
        "numerical_features = ['Loan_Amount']\n",
        "\n",
        "numerical_transformer = SimpleImputer(strategy='median') # Changed strategy to median\n",
        "\n",
        "categorical_transformer = Pipeline(steps=[\n",
        "    ('imputer', SimpleImputer(strategy='most_frequent')),\n",
        "    ('onehot', OneHotEncoder(handle_unknown='ignore'))\n",
        "])\n",
        "\n",
        "\n",
        "preprocessor = ColumnTransformer(\n",
        "    transformers=[\n",
        "        ('num', numerical_transformer, numerical_features),\n",
        "        ('cat', categorical_transformer, categorical_features)\n",
        "    ])\n",
        "\n",
        "label_encoder = LabelEncoder()\n",
        "y_encoded = label_encoder.fit_transform(y)\n",
        "\n",
        "X_train, X_test, y_train, y_test = train_test_split(X, y_encoded, test_size=0.3, random_state=100, stratify=y_encoded) # Changed test_size, random_state, and added stratify\n",
        "\n",
        "dt_model = Pipeline(steps=[('preprocessor', preprocessor),\n",
        "                           ('classifier', DecisionTreeClassifier(random_state=50, max_depth=3))]) # Changed random_state and added max_depth\n",
        "\n",
        "dt_model.fit(X_train, y_train)\n",
        "\n",
        "dt_predictions = dt_model.predict(X_test)\n",
        "\n",
        "dt_accuracy = accuracy_score(y_test, dt_predictions)\n",
        "print(f\"Decision Tree Accuracy: {dt_accuracy:.4f}\")\n",
        "\n",
        "\n",
        "rf_model = Pipeline(steps=[('preprocessor', preprocessor),\n",
        "                           ('classifier', RandomForestClassifier(random_state=70, n_estimators=200, min_samples_leaf=2))]) # Changed random_state, n_estimators, and added min_samples_leaf\n",
        "\n",
        "rf_model.fit(X_train, y_train)\n",
        "\n",
        "rf_predictions = rf_model.predict(X_test)\n",
        "\n",
        "rf_accuracy = accuracy_score(y_test, rf_predictions)\n",
        "print(f\"Random Forest Accuracy: {rf_accuracy:.4f}\")"
      ],
      "metadata": {
        "colab": {
          "base_uri": "https://localhost:8080/"
        },
        "id": "TTBePixl4qEB",
        "outputId": "94fb3bc1-1274-4854-ef4a-eb4c85a40565"
      },
      "execution_count": null,
      "outputs": [
        {
          "output_type": "stream",
          "name": "stdout",
          "text": [
            "Decision Tree Accuracy: 0.6667\n",
            "Random Forest Accuracy: 1.0000\n"
          ]
        }
      ]
    },
    {
      "cell_type": "code",
      "source": [
        "import pandas as pd\n",
        "from sklearn.model_selection import train_test_split\n",
        "from sklearn.tree import DecisionTreeClassifier\n",
        "from sklearn.ensemble import RandomForestClassifier\n",
        "from sklearn.metrics import accuracy_score\n",
        "from sklearn.impute import SimpleImputer\n",
        "from sklearn.preprocessing import OneHotEncoder, LabelEncoder, StandardScaler\n",
        "from sklearn.compose import ColumnTransformer\n",
        "from sklearn.pipeline import Pipeline\n",
        "import io\n",
        "\n",
        "data = \"\"\"Age_Group|Employment_Type|Income_Level|Credit_History|Loan_Amount|Loan_Approved\n",
        "25-35|Salaried|Low|Good|50000|Yes\n",
        "36-45|Self-Employed|Medium|Fair|100000|No\n",
        "46-55|Salaried|High|Good|200000|Yes\n",
        "25-35|Salaried|Medium||150000|No\n",
        "36-45|Self-Employed|Medium|Good|120000|Yes\n",
        "46-55|Salaried|Low|Poor|70000|No\n",
        "25-35||Low|Good|80000|Yes\n",
        "36-45|Salaried|High|Good|250000|Yes\n",
        "46-55||Medium|Fair|180000|No\n",
        "25-35|Salaried|Low|Good|90000|Yes\"\"\"\n",
        "\n",
        "df = pd.read_csv(io.StringIO(data), sep='|')\n",
        "\n",
        "target_column = 'Loan_Approved'\n",
        "X = df.drop(target_column, axis=1)\n",
        "y = df[target_column]\n",
        "\n",
        "categorical_features = ['Age_Group', 'Employment_Type', 'Income_Level', 'Credit_History']\n",
        "numerical_features = ['Loan_Amount']\n",
        "\n",
        "# Numerical transformer with StandardScaler\n",
        "numerical_transformer = Pipeline(steps=[\n",
        "    ('imputer', SimpleImputer(strategy='mean')),\n",
        "    ('scaler', StandardScaler())\n",
        "])\n",
        "\n",
        "categorical_transformer = Pipeline(steps=[\n",
        "    ('imputer', SimpleImputer(strategy='most_frequent')),\n",
        "    ('onehot', OneHotEncoder(handle_unknown='ignore'))\n",
        "])\n",
        "\n",
        "\n",
        "preprocessor = ColumnTransformer(\n",
        "    transformers=[\n",
        "        ('num', numerical_transformer, numerical_features),\n",
        "        ('cat', categorical_transformer, categorical_features)\n",
        "    ])\n",
        "\n",
        "label_encoder = LabelEncoder()\n",
        "y_encoded = label_encoder.fit_transform(y)\n",
        "\n",
        "X_train, X_test, y_train, y_test = train_test_split(X, y_encoded, test_size=0.3, random_state=123) # Different test size and random state\n",
        "\n",
        "# Decision Tree with different hyperparameters\n",
        "dt_model = Pipeline(steps=[('preprocessor', preprocessor),\n",
        "                            ('classifier', DecisionTreeClassifier(random_state=123, max_depth=3, min_samples_leaf=2))]) # Different random state and hyperparameters\n",
        "\n",
        "dt_model.fit(X_train, y_train)\n",
        "\n",
        "dt_predictions = dt_model.predict(X_test)\n",
        "\n",
        "dt_accuracy = accuracy_score(y_test, dt_predictions)\n",
        "print(f\"Decision Tree Accuracy (Modified): {dt_accuracy:.4f}\")\n",
        "\n",
        "\n",
        "# Random Forest with different hyperparameters\n",
        "rf_model = Pipeline(steps=[('preprocessor', preprocessor),\n",
        "                            ('classifier', RandomForestClassifier(random_state=123, n_estimators=50, max_depth=5))]) # Different random state and hyperparameters\n",
        "\n",
        "rf_model.fit(X_train, y_train)\n",
        "\n",
        "rf_predictions = rf_model.predict(X_test)\n",
        "\n",
        "rf_accuracy = accuracy_score(y_test, rf_predictions)\n",
        "print(f\"Random Forest Accuracy (Modified): {rf_accuracy:.4f}\")"
      ],
      "metadata": {
        "colab": {
          "base_uri": "https://localhost:8080/"
        },
        "id": "m5idBQoQAVVi",
        "outputId": "5ebc80c6-b967-4585-c131-4f891e253f5e"
      },
      "execution_count": null,
      "outputs": [
        {
          "output_type": "stream",
          "name": "stdout",
          "text": [
            "Decision Tree Accuracy (Modified): 0.3333\n",
            "Random Forest Accuracy (Modified): 0.6667\n"
          ]
        }
      ]
    }
  ]
}